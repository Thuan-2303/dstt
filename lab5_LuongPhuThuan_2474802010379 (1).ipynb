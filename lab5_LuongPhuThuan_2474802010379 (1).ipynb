{
  "nbformat": 4,
  "nbformat_minor": 0,
  "metadata": {
    "colab": {
      "provenance": []
    },
    "kernelspec": {
      "name": "python3",
      "display_name": "Python 3"
    },
    "language_info": {
      "name": "python"
    }
  },
  "cells": [
    {
      "cell_type": "code",
      "execution_count": null,
      "metadata": {
        "id": "k-b8yljqb0wK"
      },
      "outputs": [],
      "source": [
        "import numpy as np\n",
        "\n",
        "try:\n",
        "    D = np.array([[1, 2], [3, 4]])\n",
        "    np.copyto(E, D)\n",
        "except Exception as e:\n",
        "    print(\"Lỗi xảy ra:\", e)\n",
        "\n",
        "E = np.array([[1, 2], [3, 5]])\n",
        "np.copyto(E, D)\n",
        "print(\"Giá trị của E sau khi sao chép:\")\n",
        "print(E)\n"
      ]
    },
    {
      "cell_type": "code",
      "source": [
        "import numpy as np\n",
        "\n",
        "x = np.array([['a', 'b'], ['c', 'd']])\n",
        "y = 'x'\n",
        "C = np.matrix([[x, y], [1, 2]])\n",
        "print(C)\n"
      ],
      "metadata": {
        "id": "ZpHXwpybcB9J"
      },
      "execution_count": null,
      "outputs": []
    },
    {
      "cell_type": "code",
      "source": [
        "from numpy import matlib\n",
        "\n",
        "G = matlib.identity(5)\n",
        "print(\"Ma trận G:\")\n",
        "print(G)\n",
        "\n",
        "H = matlib.randn(3, 2)\n",
        "print(\"\\nMa trận H:\")\n",
        "print(H)\n",
        "\n",
        "K = matlib.zeros([4, 4])\n",
        "print(\"\\nMa trận K:\")\n",
        "print(K)"
      ],
      "metadata": {
        "id": "5Xih9bk_cE4k"
      },
      "execution_count": null,
      "outputs": []
    },
    {
      "cell_type": "code",
      "source": [
        "import numpy as np\n",
        "c = [3, 7, 15, 1, 292, 1, 1, 2, 1, 3, 1, 14, 2]\n",
        "\n",
        "M = np.mat([[1, 2], [3, 4]])\n",
        "\n",
        "\n",
        "for i in range(len(c)):\n",
        "    ci = np.mat([[1, 1], [1, 0]])\n",
        "    ci[0, 0] = c[i]\n",
        "\n",
        "    if i == 0:\n",
        "        M = ci\n",
        "    else:\n",
        "        M = M.dot(ci)\n",
        "\n",
        "print(\"Ma trận kết quả M:\")\n",
        "print(M)\n",
        "\n",
        "pi_approx = M[0, 0] / M[1, 0]\n",
        "print(\"\\nGiá trị xấp xỉ của π:\")\n",
        "print(pi_approx)"
      ],
      "metadata": {
        "id": "xdz_vTsjcTr3"
      },
      "execution_count": null,
      "outputs": []
    },
    {
      "cell_type": "code",
      "source": [
        "import numpy as np\n",
        "\n",
        "\n",
        "X = np.array([[1, 1],\n",
        "              [1, 2],\n",
        "              [1, 3],\n",
        "              [1, 4],\n",
        "              [1, 5]])\n",
        "\n",
        "Y = np.array([[2],\n",
        "              [2.4],\n",
        "              [2.6],\n",
        "              [3.8],\n",
        "              [4.4]])\n",
        "\n",
        "\n",
        "XT = X.T\n",
        "\n",
        "A1 = np.linalg.inv(XT.dot(X))\n",
        "A2 = XT.dot(Y)\n",
        "\n",
        "\n",
        "A = A1.dot(A2)\n",
        "\n",
        "print(\"Giá trị hệ số a0 và a1:\")\n",
        "print(A)\n",
        "\n",
        "\n",
        "a0 = A[0, 0]\n",
        "a1 = A[1, 0]\n",
        "print(f\"\\nPhương trình gần đúng: y = {a0:.2f} + {a1:.2f}x\")\n",
        "\n",
        "\n",
        "Y_pred = X.dot(A)\n",
        "residuals = Y - Y_pred\n",
        "SSE = np.sum(residuals**2)\n",
        "print(f\"\\nTổng sai số bình phương (SSE): {SSE:.4f}\")\n"
      ],
      "metadata": {
        "id": "e3jOTW5McUYL"
      },
      "execution_count": null,
      "outputs": []
    },
    {
      "cell_type": "code",
      "source": [
        "import numpy as np\n",
        "from numpy import linalg\n",
        "\n",
        "def bpcuctieu(a):\n",
        "    b = []\n",
        "    o1 = []\n",
        "\n",
        "    for i in range(len(a)):\n",
        "        o1.append(1.0)\n",
        "        b.append((i + 1) * 1.0)\n",
        "\n",
        "    x = np.array([o1, b])\n",
        "    u = np.dot(x, x.T)\n",
        "    y = np.array(a)\n",
        "\n",
        "    u_1 = linalg.inv(u)\n",
        "    v = np.dot(u_1, x)\n",
        "    A = np.dot(v, y)\n",
        "\n",
        "    return A"
      ],
      "metadata": {
        "id": "txEN3SdHcWyj"
      },
      "execution_count": null,
      "outputs": []
    }
  ]
}