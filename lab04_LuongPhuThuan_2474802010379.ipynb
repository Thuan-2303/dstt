{
  "nbformat": 4,
  "nbformat_minor": 0,
  "metadata": {
    "colab": {
      "provenance": []
    },
    "kernelspec": {
      "name": "python3",
      "display_name": "Python 3"
    },
    "language_info": {
      "name": "python"
    }
  },
  "cells": [
    {
      "cell_type": "code",
      "source": [
        "from itertools import permutations\n",
        "n = 3\n",
        "X = []\n",
        "for i in range (1, n+1):\n",
        "X.append(i)\n",
        "Sn = list(permutations(X))\n",
        "print (Sn)\n",
        "\n",
        "def phatsinh_dinhthuc(n):\n",
        "    X = []\n",
        "    for i in range(1, n+1):\n",
        "        X.append(i)\n",
        "    Sn = list(permutations(X))\n",
        "    dinhthuc = \"\"\n",
        "    for sn in Sn:\n",
        "        sigma = np.array([1])\n",
        "        sigma.resize([n])\n",
        "        product = \"\"\n",
        "        for i in range(1, n+1):\n",
        "            sigma[sn.index(i)] = i\n",
        "            product = product + \"a\" + str(i) + str(sn.index(i)+1)\n",
        "        dau = sgn_by_def(sigma)\n",
        "        if (dau != 1):\n",
        "            product = \" - \" + product\n",
        "        else:\n",
        "            product = \" + \" + product\n",
        "        dinhthuc = dinhthuc + product\n",
        "    return dinhthuc\n",
        "phatsinh_dinhthuc(2)\n",
        "' + a11a22 - a12a21'\n",
        "phatsinh_dinhthuc(3)"
      ],
      "metadata": {
        "id": "dee_6FxgdF34"
      },
      "execution_count": null,
      "outputs": []
    },
    {
      "cell_type": "code",
      "source": [
        "def tinhtoan_dinhthuc(A):\n",
        "        X = []\n",
        "        import math\n",
        "        n = int(math.sqrt(A.size))\n",
        "        for i in range(1, n+1):\n",
        "            X.append(i)\n",
        "        Sn = list(permutations(X))\n",
        "        dinhthuc = 0\n",
        "        for sn in Sn:\n",
        "            sigma = np.array([1])\n",
        "            sigma.resize([n])\n",
        "            product = 1\n",
        "            for i in range(1,n+1):\n",
        "                sigma[sn.index(i)] = i\n",
        "                product = product * A[i-1][sn.index(i)]\n",
        "            dau = sgn_by_def(sigma)\n",
        "            if (dau != 1):\n",
        "                product = product * (-1)\n",
        "            dinhthuc = dinhthuc + product\n",
        "        return dinhthuc\n",
        "matran = np.array([ [3,5,-8], [4, 12, -1], [2,5,3] ])\n",
        "tinhtoan_dinhthuc(A)"
      ],
      "metadata": {
        "id": "x-Tp43Kog4ZQ"
      },
      "execution_count": null,
      "outputs": []
    },
    {
      "cell_type": "code",
      "source": [
        "import numpy as np\n",
        "A = np.array([[4, -2],[3, -5]]\n",
        "A1 = np.array([[10, -2],[11, -5]])\n",
        "A2 = np.array([[4, 10],[3, 11]])\n",
        "from scipy import linalg\n",
        "detA = linalg.det(A)\n",
        "detA1 = linalg.det(A1)\n",
        "detA2 = linalg.det(A2)\n",
        "print (detA, detA1, detA2)\n",
        "if (detA != 0):\n",
        "x1 = detA1 / detA\n",
        "x2 = detA2 / detA\n",
        "print (\"Hai nghiệm của phương trình là: \", x1, x2)\n",
        "\n",
        "import numpy as np\n",
        "\n",
        "             A = np.array([[-1, 2, -3],\n",
        "              [2, -2, 1],\n",
        "              [3, -4, 4]])\n",
        "\n",
        "             b = np.array([1, 3, 2])\n",
        "\n",
        "rank_A = np.linalg.matrix_rank(A)\n",
        "augmented_matrix = np.column_stack((A, b))\n",
        "rank_augmented = np.linalg.matrix_rank(augmented_matrix)\n",
        "if rank_A == rank_augmented:\n",
        "    if rank_A == A.shape[1]:\n",
        "        solution = np.linalg.solve(A, b)\n",
        "        print(\"Hệ có nghiệm duy nhất:\")\n",
        "        print(f\"a = {solution[0]}\")\n",
        "        print(f\"e = {solution[1]}\")\n",
        "        print(f\"f = {solution[2]}\")\n",
        "else:\n",
        "    print(\"Hệ có vô số nghiệm\")\n",
        "else:\n",
        "    print(\"Hệ vô nghiệm\")"
      ],
      "metadata": {
        "id": "MEQIVCbYg6o2"
      },
      "execution_count": null,
      "outputs": []
    },
    {
      "cell_type": "code",
      "source": [
        "import sympy as sp\n",
        "TG = sp.Matrix([[1, 0, 1],[4, 3, 1], [2, 2, 1]])\n",
        "1/2*TG.det()"
      ],
      "metadata": {
        "id": "nbVnJ7nag8kR"
      },
      "execution_count": null,
      "outputs": []
    },
    {
      "cell_type": "code",
      "source": [
        "M = Matrix([[0, 4, 1, 1], [4, 0, 0, 1], [3, 5, 2, 1], [2, 2,\n",
        "5, 1]])\n",
        "1/6*M.det()"
      ],
      "metadata": {
        "id": "gdH2p9hShAID"
      },
      "execution_count": null,
      "outputs": []
    },
    {
      "cell_type": "code",
      "source": [
        "from sympy import *\n",
        "x, y, z = symbols('x y z')\n",
        "MP = Matrix([[x, y, z, 1],[-1, 3, 2, 1],[0, 1, 0, 1],[-2, 0,\n",
        "1, 1]])\n",
        "MP.det()"
      ],
      "metadata": {
        "id": "2DuxmAMvhB0L"
      },
      "execution_count": null,
      "outputs": []
    },
    {
      "cell_type": "code",
      "source": [
        "import numpy as np\n",
        "def minor(matrix, i, j):\n",
        "    sub_matrix = np.delete(np.delete(matrix, i, axis=0), j, axis=1)\n",
        "    return np.linalg.det(sub_matrix)\n",
        "\n",
        "def cofactor_matrix(A):\n",
        "    n = A.shape[0]\n",
        "    cof = np.zeros_like(A, dtype=float)\n",
        "    for i in range(n):\n",
        "        for j in range(n):\n",
        "            sign = (-1) ** (i + j)\n",
        "            cof[i][j] = sign * minor(A, i, j)\n",
        "    return cof\n",
        "\n",
        "def adjoint_matrix(A):\n",
        "    cof = cofactor_matrix(A)\n",
        "    return cof.T\n",
        "\n",
        "A = np.array([[3, 5, -8],\n",
        "              [4, 12, -1],\n",
        "              [2, 5, 3]])\n",
        "\n",
        "cof_mat = cofactor_matrix(A)\n",
        "adj_mat = adjoint_matrix(A)\n",
        "\n",
        "print(\"Ma trận hệ số phụ đại số (Cofactor Matrix):\")\n",
        "print(cof_mat)\n",
        "\n",
        "print(\"\\nMa trận liên hợp (Adjoint Matrix):\")\n",
        "print(adj_mat)"
      ],
      "metadata": {
        "id": "3Xl1KAnAhGDs"
      },
      "execution_count": null,
      "outputs": []
    },
    {
      "cell_type": "code",
      "source": [
        "from sympy import symbols, Matrix, simplify, Eq, solve\n",
        "\n",
        "x, y = symbols('x y')\n",
        "x1, y1 = symbols('x1 y1')\n",
        "x2, y2 = symbols('x2 y2')\n",
        "x3, y3 = symbols('x3 y3')\n",
        "\n",
        "M = Matrix([\n",
        "    [x**2 + y**2, x, y, 1],\n",
        "    [x1**2 + y1**2, x1, y1, 1],\n",
        "    [x2**2 + y2**2, x2, y2, 1],\n",
        "    [x3**2 + y3**2, x3, y3, 1]\n",
        "])\n",
        "\n",
        "dinh_thuc = simplify(M.det())\n",
        "\n",
        "print(\"Phương trình đường tròn qua 3 điểm (dạng định thức):\")\n",
        "print(Eq(dinh_thuc, 0))"
      ],
      "metadata": {
        "id": "-bf_yOD8hV04"
      },
      "execution_count": null,
      "outputs": []
    },
    {
      "cell_type": "code",
      "source": [],
      "metadata": {
        "id": "hqc7KdafhX1l"
      },
      "execution_count": null,
      "outputs": []
    }
  ]
}