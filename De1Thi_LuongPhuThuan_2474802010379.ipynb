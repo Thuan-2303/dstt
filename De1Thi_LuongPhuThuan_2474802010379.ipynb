{
  "nbformat": 4,
  "nbformat_minor": 0,
  "metadata": {
    "colab": {
      "provenance": []
    },
    "kernelspec": {
      "name": "python3",
      "display_name": "Python 3"
    },
    "language_info": {
      "name": "python"
    }
  },
  "cells": [
    {
      "cell_type": "code",
      "execution_count": null,
      "metadata": {
        "id": "Wb38aXL3lwas"
      },
      "outputs": [],
      "source": [
        "#Câu 1\n",
        "import numpy as np\n",
        "\n",
        "A = np.array([-2, 1, 4])\n",
        "B = np.array([-1, 5, 0])\n",
        "C = np.array([[2, -1, 3],\n",
        "              [1, 4, -2],\n",
        "              [0, 2, 5]])\n",
        "\n",
        "tong_AB = A + B\n",
        "tich_2A_3B = 2 * A + 3 * B\n",
        "print(\"Tổng vector A + B:\", tong_AB)\n",
        "print(\"Tích số 2A + 3B:\", tich_2A_3B)\n",
        "\n",
        "tich_vo_huong = np.dot(A, B)\n",
        "goc = np.arccos(tich_vo_huong / (np.linalg.norm(A) * np.linalg.norm(B))) * 180 / np.pi\n",
        "print(\"Tích vô hướng A và B:\", tich_vo_huong)\n",
        "print(\"Góc giữa A và B (độ):\", goc)\n",
        "\n",
        "C_transpose = C.T\n",
        "tich_CCt = np.dot(C, C_transpose)\n",
        "print(\"Tích ma trận C * C^T:\\n\", tich_CCt)"
      ]
    },
    {
      "cell_type": "code",
      "source": [
        "# Câu 2\n",
        "import numpy as np\n",
        "\n",
        "M = np.array([[2, -1, 3, 0],\n",
        "              [1, 4, -2, 5],\n",
        "              [0, 2, 6, -3],\n",
        "              [-1, 0, 1, 4]])\n",
        "\n",
        "N = np.array([[1, 3, -2, 0],\n",
        "              [4, -1, 5, 2],\n",
        "              [0, 2, 3, -1],\n",
        "              [-3, 1, 0, 4]])\n",
        "\n",
        "tich_MN = np.dot(M, N)\n",
        "print(\"Tích ma trận M x N:\\n\", tich_MN)\n",
        "\n",
        "det_M = np.linalg.det(M)\n",
        "print(\"Định thức của ma trận M:\", det_M)\n",
        "\n",
        "hang_N = np.linalg.matrix_rank(N)\n",
        "print(\"Hạng của ma trận N:\", hang_N)"
      ],
      "metadata": {
        "id": "lRRaxV0Vn68c"
      },
      "execution_count": null,
      "outputs": []
    },
    {
      "cell_type": "code",
      "source": [
        "# Câu 3\n",
        "import numpy as np\n",
        "\n",
        "P = np.array([[3, -1, 0, 2],\n",
        "              [1, 4, -2, 0],\n",
        "              [0, 1, 5, -1],\n",
        "              [2, 0, 1, 3]])\n",
        "\n",
        "b = np.array([6, 8, 3, 7])\n",
        "\n",
        "P_inv = np.linalg.inv(P)\n",
        "print(\"Ma trận nghịch đảo của P:\\n\", P_inv)\n",
        "\n",
        "x = np.linalg.solve(P, b)\n",
        "print(\"Nghiệm của hệ phương trình [x, y, z, w]:\", x)\n",
        "\n",
        "kiem_tra = np.dot(P, x)\n",
        "print(\"Kiểm tra P * x:\\n\", kiem_tra)\n",
        "print(\"Vector hạng số b:\", b)"
      ],
      "metadata": {
        "id": "1cKmODcZoCXt"
      },
      "execution_count": null,
      "outputs": []
    },
    {
      "cell_type": "code",
      "source": [
        "# Câu 4\n",
        "import numpy as np\n",
        "\n",
        "Q = np.array([[5, -2, 1],\n",
        "              [0, 3, -1],\n",
        "              [2, 0, 4]])\n",
        "\n",
        "gia_tri_rieng, vector_rieng = np.linalg.eig(Q)\n",
        "print(\"Các giá trị riêng của ma trận Q:\", gia_tri_rieng)\n",
        "\n",
        "print(\"Các vector riêng tương ứng:\\n\", vector_rieng)\n",
        "\n",
        "for i in range(vector_rieng.shape[1]):\n",
        "    v = vector_rieng[:, i]\n",
        "    chuan_hoa = v / np.linalg.norm(v)\n",
        "    print(f\"Vector riêng chuẩn hóa {i+1}:\", chuan_hoa)"
      ],
      "metadata": {
        "id": "6Jc0bti6oeIL"
      },
      "execution_count": null,
      "outputs": []
    },
    {
      "cell_type": "code",
      "source": [
        "# Câu 5\n",
        "import numpy as np\n",
        "\n",
        "R = np.array([[4, -1, 2],\n",
        "              [1, 3, -2],\n",
        "              [0, 2, 5]])\n",
        "\n",
        "b = np.array([12, 5, 9])\n",
        "\n",
        "x = np.linalg.solve(R, b)\n",
        "print(\"Nghiệm của hệ phương trình R * x = b:\", x)\n",
        "\n",
        "det_R = np.linalg.det(R)\n",
        "if abs(det_R) < 1e-10:\n",
        "    print(\"Ma trận R không khả nghịch vì định thức gần 0.\")\n",
        "else:\n",
        "    R_inv = np.linalg.inv(R)\n",
        "    x_inv = np.dot(R_inv, b)\n",
        "    print(\"Ma trận nghịch đảo của R:\\n\", R_inv)\n",
        "    print(\"Nghiệm từ ma trận nghịch đảo:\", x_inv)\n",
        "\n",
        "chuẩn_frobenius = np.sqrt(np.sum(R ** 2))\n",
        "print(\"Chuẩn Frobenius của ma trận R:\", chuẩn_frobenius)"
      ],
      "metadata": {
        "id": "4f_9wVtsoj0r"
      },
      "execution_count": null,
      "outputs": []
    }
  ]
}