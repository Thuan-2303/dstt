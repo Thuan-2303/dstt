{
  "nbformat": 4,
  "nbformat_minor": 0,
  "metadata": {
    "colab": {
      "provenance": []
    },
    "kernelspec": {
      "name": "python3",
      "display_name": "Python 3"
    },
    "language_info": {
      "name": "python"
    }
  },
  "cells": [
    {
      "cell_type": "code",
      "execution_count": null,
      "metadata": {
        "id": "1Cqk8_zsqTpk"
      },
      "outputs": [],
      "source": [
        "import numpy as np\n",
        "\n",
        "# Định nghĩa ánh xạ g\n",
        "def g(v):\n",
        "    x, y, z = v\n",
        "    return np.array([x + y, z + 2, 0])\n",
        "\n",
        "# Hai vector bất kỳ\n",
        "u = np.array([1, 2, 3])\n",
        "v = np.array([4, -1, 0])\n",
        "c = 3  # hằng số vô hướng\n",
        "\n",
        "# Kiểm tra g(u + v) == g(u) + g(v)\n",
        "left_add = g(u + v)\n",
        "right_add = g(u) + g(v)\n",
        "\n",
        "# Kiểm tra g(c * u) == c * g(u)\n",
        "left_scalar = g(c * u)\n",
        "right_scalar = c * g(u)\n",
        "\n",
        "# In kết quả kiểm tra\n",
        "print(\"Kiểm tra g(u + v) == g(u) + g(v):\")\n",
        "print(\"g(u + v) =\", left_add)\n",
        "print(\"g(u) + g(v) =\", right_add)\n",
        "print(\"Bằng nhau?\", np.allclose(left_add, right_add))\n",
        "\n",
        "print(\"\\nKiểm tra g(c * u) == c * g(u):\")\n",
        "print(\"g(c * u) =\", left_scalar)\n",
        "print(\"c * g(u) =\", right_scalar)\n",
        "print(\"Bằng nhau?\", np.allclose(left_scalar, right_scalar))\n",
        "\n",
        "# Kiểm tra g(0) có bằng 0 không?\n",
        "zero = np.array([0, 0, 0])\n",
        "print(\"\\nKiểm tra g(0) có bằng 0 không?\")\n",
        "print(\"g(0) =\", g(zero))\n"
      ]
    },
    {
      "cell_type": "code",
      "source": [
        "import numpy as np\n",
        "import matplotlib.pyplot as plt\n",
        "\n",
        "# Ma trận biến đổi\n",
        "T = np.array([[0, 1],\n",
        "              [1, -1]])\n",
        "\n",
        "# Tập điểm của hình vuông ban đầu (theo chiều kim đồng hồ)\n",
        "# Các đỉnh: (0,0), (1,0), (1,1), (0,1)\n",
        "square = np.array([[0, 1, 1, 0, 0],\n",
        "                   [0, 0, 1, 1, 0]])\n",
        "\n",
        "# Áp dụng phép biến đổi tuyến tính\n",
        "transformed_square = T @ square\n",
        "\n",
        "# Vẽ hình trước và sau khi biến đổi\n",
        "plt.figure(figsize=(10, 4))\n",
        "\n",
        "# Hình gốc\n",
        "plt.subplot(1, 2, 1)\n",
        "plt.plot(square[0], square[1], 'b', linewidth=2)\n",
        "plt.fill(square[0], square[1], color='skyblue', alpha=0.6)\n",
        "plt.title(\"Hình gốc\")\n",
        "plt.axis('equal')\n",
        "plt.grid(True)\n",
        "\n",
        "# Hình sau biến đổi\n",
        "plt.subplot(1, 2, 2)\n",
        "plt.plot(transformed_square[0], transformed_square[1], 'g', linewidth=2)\n",
        "plt.fill(transformed_square[0], transformed_square[1], color='lightgreen', alpha=0.6)\n",
        "plt.title(\"Sau biến đổi\")\n",
        "plt.axis('equal')\n",
        "plt.grid(True)\n",
        "\n",
        "plt.tight_layout()\n",
        "plt.show()\n"
      ],
      "metadata": {
        "id": "yihLkiUVquCz"
      },
      "execution_count": null,
      "outputs": []
    },
    {
      "cell_type": "code",
      "source": [
        "import sympy as sp\n",
        "\n",
        "# Khai báo các biến\n",
        "v1, v2, u1, u2, c = sp.symbols('v1 v2 u1 u2 c')\n",
        "\n",
        "# Vectơ v và u\n",
        "v = sp.Matrix([v1, v2])\n",
        "u = sp.Matrix([u1, u2])\n",
        "\n",
        "# Định nghĩa ánh xạ T\n",
        "def T(vec):\n",
        "    x, y = vec\n",
        "    return sp.Matrix([x - y, x + 2*y])\n",
        "\n",
        "# Kiểm tra tính chất 1: T(u + v) == T(u) + T(v)\n",
        "left1 = T(u + v)\n",
        "right1 = T(u) + T(v)\n",
        "\n",
        "# Kiểm tra tính chất 2: T(c·v) == c·T(v)\n",
        "left2 = T(c * v)\n",
        "right2 = c * T(v)\n",
        "\n",
        "# In ra để kiểm tra\n",
        "print(\"T(u + v) == T(u) + T(v)?\", sp.simplify(left1 - right1) == sp.zeros(2, 1))\n",
        "print(\"T(c·v) == c·T(v)?\", sp.simplify(left2 - right2) == sp.zeros(2, 1))\n"
      ],
      "metadata": {
        "id": "vwfrwBz5q_d7"
      },
      "execution_count": null,
      "outputs": []
    },
    {
      "cell_type": "code",
      "source": [
        "import sympy as sp\n",
        "\n",
        "# Định nghĩa ma trận đối xứng A\n",
        "A = sp.Matrix([[13, -5],\n",
        "               [-5, 13]])\n",
        "\n",
        "# Tính eigenvalues và eigenvectors\n",
        "eigen_data = A.eigenvects()\n",
        "\n",
        "# In kết quả\n",
        "for val in eigen_data:\n",
        "    eigenvalue = val[0]\n",
        "    multiplicity = val[1]\n",
        "    eigvecs = val[2]\n",
        "    print(f\"Giá trị riêng λ = {eigenvalue}, bội số = {multiplicity}\")\n",
        "    print(\"Vector riêng ứng với λ:\")\n",
        "    sp.pprint(eigvecs[0])\n",
        "    print()\n"
      ],
      "metadata": {
        "id": "7GzYWmowrOad"
      },
      "execution_count": null,
      "outputs": []
    }
  ]
}